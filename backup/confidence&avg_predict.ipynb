{
 "cells": [
  {
   "cell_type": "code",
   "execution_count": 1,
   "metadata": {},
   "outputs": [
    {
     "name": "stdout",
     "output_type": "stream",
     "text": [
      "2020-04-01 20:02:44,179 Reading data from data\n",
      "2020-04-01 20:02:44,180 Train: data/train.txt\n",
      "2020-04-01 20:02:44,181 Dev: data/valid.txt\n",
      "2020-04-01 20:02:44,182 Test: data/test.txt\n",
      "Corpus: 14041 train + 3250 dev + 3453 test sentences\n",
      "Dictionary with 12 tags: <unk>, O, B-ORG, B-MISC, B-PER, I-PER, B-LOC, I-ORG, I-MISC, I-LOC, <START>, <STOP>\n"
     ]
    }
   ],
   "source": [
    "#!/usr/bin/python\n",
    "# -*- coding: UTF-8 -*-\n",
    "\n",
    "'''\n",
    "@version:0.1\n",
    "@author:Cai Qingpeng\n",
    "@file: test.py\n",
    "@time: 2020/3/18 7:30 PM\n",
    "'''\n",
    "import os\n",
    "\n",
    "os.environ[\"CUDA_VISIBLE_DEVICES\"] = \"\"\n",
    "\n",
    "import numpy as np\n",
    "from conlleval import evaluate\n",
    "from flair.data import Corpus\n",
    "from flair.datasets import ColumnCorpus\n",
    "\n",
    "\n",
    "\n",
    "# define columns\n",
    "columns = {0: 'text', 1: '_', 2: '_', 3: 'ner'}\n",
    "\n",
    "# this is the folder in which train, test and dev files reside\n",
    "data_folder = './data'  # /path/to/data/folder\n",
    "\n",
    "# init a corpus using column format, data folder and the names of the train, dev and test files\n",
    "corpus: Corpus = ColumnCorpus(data_folder, columns,\n",
    "                              train_file='train.txt',\n",
    "                              test_file='test.txt',\n",
    "                              dev_file='valid.txt')\n",
    "\n",
    "print(corpus)\n",
    "\n",
    "# 2. what tag do we want to predict?\n",
    "tag_type = 'ner'\n",
    "\n",
    "# 3. make the tag dictionary from the corpus\n",
    "tag_dictionary = corpus.make_tag_dictionary(tag_type=tag_type)\n",
    "print(tag_dictionary)\n"
   ]
  },
  {
   "cell_type": "code",
   "execution_count": 4,
   "metadata": {},
   "outputs": [],
   "source": [
    "real = []\n",
    "\n",
    "for sentence in corpus.test:\n",
    "    for token in sentence.tokens:\n",
    "        real.append(token.get_tag(\"ner\").value)"
   ]
  },
  {
   "cell_type": "code",
   "execution_count": 5,
   "metadata": {},
   "outputs": [
    {
     "data": {
      "text/plain": [
       "['flair_20200330162923',\n",
       " 'avg_loss_20200401174606',\n",
       " 'avg_loss_20200401174252',\n",
       " 'avg_loss_20200401174916',\n",
       " 'pool_flair_f_20200330002549',\n",
       " 'avg_loss_20200401174155',\n",
       " 'avg_loss_20200401174226',\n",
       " 'bert',\n",
       " 'avg_loss_20200401195235',\n",
       " 'avg_loss_20200401174523',\n",
       " 'xlnet_20200330153917',\n",
       " 'avg_loss_20200401174725',\n",
       " 'mix_ebx_20200324145239',\n",
       " 'mix_ebx_20200324144951',\n",
       " 'mix_ebx_20200324145746',\n",
       " 'avg_loss_20200401174405',\n",
       " 'elmo_20200323220158',\n",
       " 'flair_20200320202343',\n",
       " 'mix_xf_20200401193836',\n",
       " 'elmo',\n",
       " 'pool_flair_f_20200330163807',\n",
       " 'xlnet_20200320131431',\n",
       " 'pool_flair.zip',\n",
       " 'avg_loss_20200401191856',\n",
       " 'bert_20200318225447']"
      ]
     },
     "execution_count": 5,
     "metadata": {},
     "output_type": "execute_result"
    }
   ],
   "source": [
    "os.listdir(\"./log/\")"
   ]
  },
  {
   "cell_type": "code",
   "execution_count": 3,
   "metadata": {},
   "outputs": [
    {
     "name": "stdout",
     "output_type": "stream",
     "text": [
      "['<unk>', 'O', 'B-ORG', 'B-MISC', 'B-PER', 'I-PER', 'B-LOC', 'I-ORG', 'I-MISC', 'I-LOC', '<START>', '<STOP>']\n",
      "2020-04-01 20:03:05,532 loading file ./log/bert_20200318225447/best-model.pt\n",
      "2020-04-01 20:03:06,050 loading file ./log/elmo/best-model.pt\n",
      "2020-04-01 20:03:08,181 loading file ./log/xlnet_20200320131431/best-model.pt\n",
      "2020-04-01 20:03:09,228 loading file ./log/flair_20200320202343/best-model.pt\n"
     ]
    }
   ],
   "source": [
    "from flair.models import SequenceTagger\n",
    "labels = tag_dictionary.get_items()\n",
    "print(labels)\n",
    "\n",
    "bert_model = SequenceTagger.load('./log/bert_20200318225447/best-model.pt')\n",
    "elmo_model = SequenceTagger.load('./log/elmo/best-model.pt')\n",
    "xlnet_model = SequenceTagger.load('./log/xlnet_20200320131431/best-model.pt')\n",
    "flair_model = SequenceTagger.load('./log/flair_20200320202343/best-model.pt')\n"
   ]
  },
  {
   "cell_type": "code",
   "execution_count": 6,
   "metadata": {},
   "outputs": [],
   "source": [
    "def model_prediction(model):\n",
    "    model_pred = []\n",
    "    for sentence in corpus.test:\n",
    "        model.predict(sentence)\n",
    "        for token in sentence.tokens:\n",
    "            model_pred.append(token.get_tag(\"ner\").value)\n",
    "    return model_pred\n"
   ]
  },
  {
   "cell_type": "code",
   "execution_count": 7,
   "metadata": {},
   "outputs": [
    {
     "name": "stdout",
     "output_type": "stream",
     "text": [
      "****** bert prediction ******\n",
      "processed 46435 tokens with 5648 phrases; found: 5678 phrases; correct: 5121.\n",
      "accuracy:  91.86%; (non-O)\n",
      "accuracy:  97.94%; precision:  90.19%; recall:  90.67%; FB1:  90.43\n",
      "              LOC: precision:  91.47%; recall:  91.97%; FB1:  91.72  1677\n",
      "             MISC: precision:  81.10%; recall:  79.49%; FB1:  80.29  688\n",
      "              ORG: precision:  86.41%; recall:  88.44%; FB1:  87.41  1700\n",
      "              PER: precision:  96.71%; recall:  96.47%; FB1:  96.59  1613\n",
      "(90.19020781965482, 90.66926345609065, 90.4291011831185)\n",
      "****** elmo prediction ******\n",
      "processed 46435 tokens with 5648 phrases; found: 5684 phrases; correct: 5116.\n",
      "accuracy:  91.75%; (non-O)\n",
      "accuracy:  97.93%; precision:  90.01%; recall:  90.58%; FB1:  90.29\n",
      "              LOC: precision:  92.21%; recall:  92.27%; FB1:  92.24  1669\n",
      "             MISC: precision:  77.12%; recall:  80.20%; FB1:  78.63  730\n",
      "              ORG: precision:  88.33%; recall:  88.44%; FB1:  88.39  1663\n",
      "              PER: precision:  95.25%; recall:  95.55%; FB1:  95.40  1622\n",
      "(90.0070372976777, 90.58073654390935, 90.29297564419343)\n",
      "****** xlnet prediction ******\n",
      "processed 46435 tokens with 5648 phrases; found: 5805 phrases; correct: 4982.\n",
      "accuracy:  89.90%; (non-O)\n",
      "accuracy:  97.46%; precision:  85.82%; recall:  88.21%; FB1:  87.00\n",
      "              LOC: precision:  88.05%; recall:  90.59%; FB1:  89.30  1716\n",
      "             MISC: precision:  74.90%; recall:  80.34%; FB1:  77.53  753\n",
      "              ORG: precision:  82.11%; recall:  83.99%; FB1:  83.04  1699\n",
      "              PER: precision:  92.36%; recall:  93.51%; FB1:  92.93  1637\n",
      "(85.82256675279932, 88.20821529745042, 86.99903955295555)\n",
      "****** flair prediction ******\n",
      "processed 46435 tokens with 5648 phrases; found: 5646 phrases; correct: 4776.\n",
      "accuracy:  86.69%; (non-O)\n",
      "accuracy:  96.94%; precision:  84.59%; recall:  84.56%; FB1:  84.58\n",
      "              LOC: precision:  86.97%; recall:  88.07%; FB1:  87.52  1689\n",
      "             MISC: precision:  72.09%; recall:  68.80%; FB1:  70.41  670\n",
      "              ORG: precision:  79.70%; recall:  79.65%; FB1:  79.67  1660\n",
      "              PER: precision:  92.26%; recall:  92.83%; FB1:  92.54  1627\n",
      "(84.59086078639744, 84.56090651558074, 84.57588099876041)\n"
     ]
    }
   ],
   "source": [
    "print(\"****** bert prediction ******\")\n",
    "bert_pred = model_prediction(bert_model)\n",
    "print(evaluate(real,bert_pred))\n",
    "print(\"****** elmo prediction ******\")\n",
    "elmo_pred = model_prediction(elmo_model)\n",
    "print(evaluate(real,elmo_pred))\n",
    "print(\"****** xlnet prediction ******\")\n",
    "xlnet_pred = model_prediction(xlnet_model)\n",
    "print(evaluate(real,xlnet_pred))\n",
    "print(\"****** flair prediction ******\")\n",
    "flair_pred = model_prediction(flair_model)\n",
    "print(evaluate(real,flair_pred))"
   ]
  },
  {
   "cell_type": "code",
   "execution_count": 8,
   "metadata": {},
   "outputs": [
    {
     "name": "stdout",
     "output_type": "stream",
     "text": [
      "2020-04-01 20:33:38,149 loading file ./log/pool_flair_f_20200330163807/best-model.pt\n",
      "****** pool_flair prediction ******\n",
      "processed 46435 tokens with 5648 phrases; found: 5733 phrases; correct: 5130.\n",
      "accuracy:  92.04%; (non-O)\n",
      "accuracy:  97.94%; precision:  89.48%; recall:  90.83%; FB1:  90.15\n",
      "              LOC: precision:  91.93%; recall:  92.21%; FB1:  92.07  1673\n",
      "             MISC: precision:  76.64%; recall:  79.91%; FB1:  78.24  732\n",
      "              ORG: precision:  85.54%; recall:  89.77%; FB1:  87.60  1743\n",
      "              PER: precision:  97.16%; recall:  95.24%; FB1:  96.19  1585\n",
      "(89.48194662480377, 90.828611898017, 90.15025041736227)\n"
     ]
    }
   ],
   "source": [
    "pool_flair_model = SequenceTagger.load('./log/pool_flair_f_20200330163807/best-model.pt')\n",
    "print(\"****** pool_flair prediction ******\")\n",
    "pool_flair_pred = model_prediction(pool_flair_model)\n",
    "print(evaluate(real,pool_flair_pred))"
   ]
  },
  {
   "cell_type": "code",
   "execution_count": null,
   "metadata": {},
   "outputs": [],
   "source": []
  },
  {
   "cell_type": "code",
   "execution_count": 25,
   "metadata": {},
   "outputs": [
    {
     "name": "stdout",
     "output_type": "stream",
     "text": [
      "2020-04-01 14:33:50,983 loading file ./log/flair_20200330162923/best-model.pt\n",
      "****** double_flair prediction ******\n",
      "processed 46435 tokens with 5648 phrases; found: 5675 phrases; correct: 5026.\n",
      "accuracy:  90.69%; (non-O)\n",
      "accuracy:  97.72%; precision:  88.56%; recall:  88.99%; FB1:  88.78\n",
      "              LOC: precision:  91.26%; recall:  91.43%; FB1:  91.34  1671\n",
      "             MISC: precision:  77.83%; recall:  77.49%; FB1:  77.66  699\n",
      "              ORG: precision:  84.41%; recall:  85.43%; FB1:  84.92  1681\n",
      "              PER: precision:  94.70%; recall:  95.11%; FB1:  94.91  1624\n",
      "(88.56387665198238, 88.98725212464589, 88.77505961317672)\n"
     ]
    }
   ],
   "source": [
    "pool_flair_model = SequenceTagger.load('./log/flair_20200330162923/best-model.pt')\n",
    "print(\"****** double_flair prediction ******\")\n",
    "pool_flair_pred = model_prediction(pool_flair_model)\n",
    "print(evaluate(real,pool_flair_pred))"
   ]
  },
  {
   "cell_type": "code",
   "execution_count": 18,
   "metadata": {},
   "outputs": [],
   "source": [
    "def cal_proba_score(model,sentence):\n",
    "    model.predict(sentence,all_tag_prob=True)\n",
    "    score = []\n",
    "    for t_id, token in enumerate(sentence.tokens):\n",
    "        # print(token.get_tag(\"ner\").value)\n",
    "        # print(token.get_tags_proba_dist(\"ner\"))\n",
    "        for index,item in enumerate(token.get_tags_proba_dist(\"ner\")):\n",
    "            # print(item.value)\n",
    "            # print(item.score)\n",
    "            score.append(item.score)\n",
    "    return score\n",
    "\n",
    "def get_mix_preds(models,method=\"avg\"):\n",
    "    mix_pred = []\n",
    "    for sentence in corpus.test:\n",
    "        scores = []\n",
    "        for model in models:\n",
    "            model_score = cal_proba_score(model,sentence)\n",
    "            scores.append(model_score) \n",
    "        \n",
    "        if method == \"avg\":\n",
    "            scores = np.mean(scores,axis=0)\n",
    "        elif method == \"confidence\":\n",
    "            scores = np.max(scores,axis=0)\n",
    "        else:\n",
    "            raise NotImplementedError(method)\n",
    "        result = np.reshape(scores,(len(sentence),len(labels)))\n",
    "\n",
    "        id_result = np.argmax(result,axis=1)\n",
    "        la_result = [tag_dictionary.get_item_for_index(i) for i in id_result]\n",
    "\n",
    "        mix_pred.extend(la_result)\n",
    "    return mix_pred"
   ]
  },
  {
   "cell_type": "code",
   "execution_count": 19,
   "metadata": {},
   "outputs": [
    {
     "name": "stdout",
     "output_type": "stream",
     "text": [
      "****** avg prediction ******\n",
      "processed 46435 tokens with 5648 phrases; found: 5683 phrases; correct: 5196.\n",
      "accuracy:  92.95%; (non-O)\n",
      "accuracy:  98.38%; precision:  91.43%; recall:  92.00%; FB1:  91.71\n",
      "              LOC: precision:  92.73%; recall:  92.51%; FB1:  92.62  1664\n",
      "             MISC: precision:  80.75%; recall:  82.48%; FB1:  81.61  717\n",
      "              ORG: precision:  89.17%; recall:  90.25%; FB1:  89.71  1681\n",
      "              PER: precision:  97.16%; recall:  97.40%; FB1:  97.28  1621\n",
      "(91.43058243885271, 91.9971671388102, 91.71299973523959)\n",
      "****** confidence prediction ******\n",
      "processed 46435 tokens with 5648 phrases; found: 5681 phrases; correct: 5194.\n",
      "accuracy:  92.89%; (non-O)\n",
      "accuracy:  98.36%; precision:  91.43%; recall:  91.96%; FB1:  91.69\n",
      "              LOC: precision:  92.62%; recall:  92.57%; FB1:  92.59  1667\n",
      "             MISC: precision:  81.61%; recall:  82.19%; FB1:  81.90  707\n",
      "              ORG: precision:  89.01%; recall:  90.25%; FB1:  89.63  1684\n",
      "              PER: precision:  96.98%; recall:  97.34%; FB1:  97.16  1623\n",
      "(91.42756556944201, 91.96175637393767, 91.6938829552476)\n"
     ]
    }
   ],
   "source": [
    "print(\"****** avg prediction ******\")\n",
    "avg_pred = get_mix_preds([bert_model,elmo_model],\"avg\")\n",
    "print(evaluate(real,avg_pred))\n",
    "print(\"****** confidence prediction ******\")\n",
    "confidence_pred = get_mix_preds([bert_model,elmo_model],\"confidence\")\n",
    "print(evaluate(real,confidence_pred))"
   ]
  },
  {
   "cell_type": "code",
   "execution_count": 20,
   "metadata": {},
   "outputs": [
    {
     "name": "stdout",
     "output_type": "stream",
     "text": [
      "****** avg prediction ******\n",
      "processed 46435 tokens with 5648 phrases; found: 5706 phrases; correct: 5141.\n",
      "accuracy:  92.28%; (non-O)\n",
      "accuracy:  98.25%; precision:  90.10%; recall:  91.02%; FB1:  90.56\n",
      "              LOC: precision:  91.43%; recall:  92.75%; FB1:  92.08  1692\n",
      "             MISC: precision:  78.37%; recall:  81.05%; FB1:  79.69  726\n",
      "              ORG: precision:  87.95%; recall:  87.42%; FB1:  87.68  1651\n",
      "              PER: precision:  96.09%; recall:  97.28%; FB1:  96.68  1637\n",
      "(90.0981423063442, 91.02337110481587, 90.55839351770301)\n",
      "****** confidence prediction ******\n",
      "processed 46435 tokens with 5648 phrases; found: 5704 phrases; correct: 5142.\n",
      "accuracy:  92.25%; (non-O)\n",
      "accuracy:  98.24%; precision:  90.15%; recall:  91.04%; FB1:  90.59\n",
      "              LOC: precision:  91.54%; recall:  92.81%; FB1:  92.17  1691\n",
      "             MISC: precision:  78.97%; recall:  80.77%; FB1:  79.86  718\n",
      "              ORG: precision:  87.98%; recall:  87.66%; FB1:  87.82  1655\n",
      "              PER: precision:  95.79%; recall:  97.16%; FB1:  96.47  1640\n",
      "(90.14726507713885, 91.04107648725213, 90.59196617336151)\n"
     ]
    }
   ],
   "source": [
    "print(\"****** avg prediction ******\")\n",
    "avg_pred = get_mix_preds([bert_model,xlnet_model],\"avg\")\n",
    "print(evaluate(real,avg_pred))\n",
    "print(\"****** confidence prediction ******\")\n",
    "confidence_pred = get_mix_preds([bert_model,xlnet_model],\"confidence\")\n",
    "print(evaluate(real,confidence_pred))"
   ]
  },
  {
   "cell_type": "code",
   "execution_count": 21,
   "metadata": {},
   "outputs": [
    {
     "name": "stdout",
     "output_type": "stream",
     "text": [
      "****** avg prediction ******\n",
      "processed 46435 tokens with 5648 phrases; found: 5784 phrases; correct: 5136.\n",
      "accuracy:  92.15%; (non-O)\n",
      "accuracy:  97.97%; precision:  88.80%; recall:  90.93%; FB1:  89.85\n",
      "              LOC: precision:  91.34%; recall:  92.27%; FB1:  91.80  1685\n",
      "             MISC: precision:  75.36%; recall:  81.48%; FB1:  78.30  759\n",
      "              ORG: precision:  86.56%; recall:  88.38%; FB1:  87.46  1696\n",
      "              PER: precision:  94.71%; recall:  96.29%; FB1:  95.49  1644\n",
      "(88.79668049792531, 90.93484419263456, 89.85304408677396)\n",
      "****** confidence prediction ******\n",
      "processed 46435 tokens with 5648 phrases; found: 5781 phrases; correct: 5135.\n",
      "accuracy:  92.21%; (non-O)\n",
      "accuracy:  97.99%; precision:  88.83%; recall:  90.92%; FB1:  89.86\n",
      "              LOC: precision:  91.30%; recall:  92.51%; FB1:  91.90  1690\n",
      "             MISC: precision:  75.23%; recall:  81.34%; FB1:  78.17  759\n",
      "              ORG: precision:  86.68%; recall:  88.14%; FB1:  87.40  1689\n",
      "              PER: precision:  94.77%; recall:  96.29%; FB1:  95.52  1643\n",
      "(88.82546272271233, 90.91713881019831, 89.8591302826144)\n"
     ]
    }
   ],
   "source": [
    "print(\"****** avg prediction ******\")\n",
    "avg_pred = get_mix_preds([elmo_model,xlnet_model],\"avg\")\n",
    "print(evaluate(real,avg_pred))\n",
    "print(\"****** confidence prediction ******\")\n",
    "confidence_pred = get_mix_preds([elmo_model,xlnet_model],\"confidence\")\n",
    "print(evaluate(real,confidence_pred))"
   ]
  },
  {
   "cell_type": "code",
   "execution_count": 22,
   "metadata": {},
   "outputs": [
    {
     "name": "stdout",
     "output_type": "stream",
     "text": [
      "****** avg prediction ******\n",
      "processed 46435 tokens with 5648 phrases; found: 5702 phrases; correct: 5175.\n",
      "accuracy:  92.91%; (non-O)\n",
      "accuracy:  98.28%; precision:  90.76%; recall:  91.63%; FB1:  91.19\n",
      "              LOC: precision:  92.52%; recall:  92.69%; FB1:  92.60  1671\n",
      "             MISC: precision:  79.59%; recall:  82.19%; FB1:  80.87  725\n",
      "              ORG: precision:  88.31%; recall:  89.10%; FB1:  88.70  1676\n",
      "              PER: precision:  96.44%; recall:  97.22%; FB1:  96.83  1630\n",
      "(90.7576289021396, 91.62535410764873, 91.18942731277532)\n",
      "****** confidence prediction ******\n",
      "processed 46435 tokens with 5648 phrases; found: 5707 phrases; correct: 5178.\n",
      "accuracy:  92.75%; (non-O)\n",
      "accuracy:  98.34%; precision:  90.73%; recall:  91.68%; FB1:  91.20\n",
      "              LOC: precision:  92.20%; recall:  92.87%; FB1:  92.53  1680\n",
      "             MISC: precision:  79.36%; recall:  81.62%; FB1:  80.48  722\n",
      "              ORG: precision:  88.42%; recall:  89.16%; FB1:  88.79  1675\n",
      "              PER: precision:  96.63%; recall:  97.40%; FB1:  97.01  1630\n",
      "(90.7306816190643, 91.67847025495752, 91.20211360634082)\n"
     ]
    }
   ],
   "source": [
    "print(\"****** avg prediction ******\")\n",
    "avg_pred = get_mix_preds([bert_model,elmo_model,xlnet_model],\"avg\")\n",
    "print(evaluate(real,avg_pred))\n",
    "print(\"****** confidence prediction ******\")\n",
    "confidence_pred = get_mix_preds([bert_model,elmo_model,xlnet_model],\"confidence\")\n",
    "print(evaluate(real,confidence_pred))"
   ]
  },
  {
   "cell_type": "code",
   "execution_count": 23,
   "metadata": {},
   "outputs": [
    {
     "name": "stdout",
     "output_type": "stream",
     "text": [
      "****** avg prediction ******\n",
      "processed 46435 tokens with 5648 phrases; found: 5704 phrases; correct: 5166.\n",
      "accuracy:  92.78%; (non-O)\n",
      "accuracy:  98.26%; precision:  90.57%; recall:  91.47%; FB1:  91.01\n",
      "              LOC: precision:  92.24%; recall:  92.63%; FB1:  92.43  1675\n",
      "             MISC: precision:  80.42%; recall:  81.91%; FB1:  81.16  715\n",
      "              ORG: precision:  88.11%; recall:  88.80%; FB1:  88.46  1674\n",
      "              PER: precision:  95.79%; recall:  97.16%; FB1:  96.47  1640\n",
      "(90.56802244039271, 91.46600566572238, 91.01479915433404)\n",
      "****** confidence prediction ******\n",
      "processed 46435 tokens with 5648 phrases; found: 5701 phrases; correct: 5166.\n",
      "accuracy:  92.55%; (non-O)\n",
      "accuracy:  98.32%; precision:  90.62%; recall:  91.47%; FB1:  91.04\n",
      "              LOC: precision:  91.87%; recall:  92.87%; FB1:  92.37  1686\n",
      "             MISC: precision:  80.31%; recall:  81.34%; FB1:  80.82  711\n",
      "              ORG: precision:  87.93%; recall:  88.56%; FB1:  88.24  1673\n",
      "              PER: precision:  96.57%; recall:  97.40%; FB1:  96.98  1631\n",
      "(90.61568145939309, 91.46600566572238, 91.03885804916733)\n"
     ]
    }
   ],
   "source": [
    "print(\"****** avg prediction ******\")\n",
    "avg_pred = get_mix_preds([bert_model,elmo_model,xlnet_model,flair_model],\"avg\")\n",
    "print(evaluate(real,avg_pred))\n",
    "print(\"****** confidence prediction ******\")\n",
    "confidence_pred = get_mix_preds([bert_model,elmo_model,xlnet_model,flair_model],\"confidence\")\n",
    "print(evaluate(real,confidence_pred))"
   ]
  },
  {
   "cell_type": "code",
   "execution_count": 21,
   "metadata": {},
   "outputs": [
    {
     "name": "stdout",
     "output_type": "stream",
     "text": [
      "(144,)\n",
      "(168,)\n",
      "(240,)\n",
      "(540,)\n",
      "(840,)\n",
      "(1344,)\n",
      "(144,)\n",
      "(168,)\n",
      "(240,)\n",
      "(540,)\n",
      "(840,)\n",
      "(1344,)\n"
     ]
    },
    {
     "data": {
      "text/plain": [
       "['O',\n",
       " 'O',\n",
       " 'B-LOC',\n",
       " 'O',\n",
       " 'O',\n",
       " 'O',\n",
       " 'O',\n",
       " 'B-LOC',\n",
       " 'O',\n",
       " 'O',\n",
       " 'O',\n",
       " 'O',\n",
       " 'B-PER',\n",
       " 'I-PER',\n",
       " 'B-LOC',\n",
       " 'O',\n",
       " 'B-LOC',\n",
       " 'I-LOC',\n",
       " 'I-LOC',\n",
       " 'O',\n",
       " 'B-LOC',\n",
       " 'O',\n",
       " 'O',\n",
       " 'O',\n",
       " 'O',\n",
       " 'O',\n",
       " 'B-MISC',\n",
       " 'I-MISC',\n",
       " 'O',\n",
       " 'O',\n",
       " 'O',\n",
       " 'O',\n",
       " 'O',\n",
       " 'O',\n",
       " 'O',\n",
       " 'B-LOC',\n",
       " 'O',\n",
       " 'O',\n",
       " 'O',\n",
       " 'O',\n",
       " 'O',\n",
       " 'O',\n",
       " 'O',\n",
       " 'O',\n",
       " 'O',\n",
       " 'O',\n",
       " 'B-LOC',\n",
       " 'O',\n",
       " 'O',\n",
       " 'O',\n",
       " 'O',\n",
       " 'O',\n",
       " 'O',\n",
       " 'O',\n",
       " 'O',\n",
       " 'O',\n",
       " 'O',\n",
       " 'O',\n",
       " 'O',\n",
       " 'O',\n",
       " 'O',\n",
       " 'O',\n",
       " 'O',\n",
       " 'O',\n",
       " 'O',\n",
       " 'O',\n",
       " 'O',\n",
       " 'O',\n",
       " 'B-LOC',\n",
       " 'O',\n",
       " 'B-LOC',\n",
       " 'O',\n",
       " 'O',\n",
       " 'O',\n",
       " 'O',\n",
       " 'O',\n",
       " 'O',\n",
       " 'O',\n",
       " 'O',\n",
       " 'O',\n",
       " 'O',\n",
       " 'O',\n",
       " 'O',\n",
       " 'O',\n",
       " 'O',\n",
       " 'O',\n",
       " 'B-MISC',\n",
       " 'O',\n",
       " 'B-PER',\n",
       " 'I-PER',\n",
       " 'O',\n",
       " 'O',\n",
       " 'O',\n",
       " 'O',\n",
       " 'O',\n",
       " 'O',\n",
       " 'O',\n",
       " 'O',\n",
       " 'O',\n",
       " 'O',\n",
       " 'O',\n",
       " 'O',\n",
       " 'O',\n",
       " 'O',\n",
       " 'B-MISC',\n",
       " 'O',\n",
       " 'O',\n",
       " 'O',\n",
       " 'O',\n",
       " 'O',\n",
       " 'O',\n",
       " 'O']"
      ]
     },
     "execution_count": 21,
     "metadata": {},
     "output_type": "execute_result"
    }
   ],
   "source": [
    "def get_whole_result(model):\n",
    "    whole_results = []\n",
    "    for i,sentence in enumerate(corpus.test):\n",
    "        sen_result = cal_proba_score(model,sentence)\n",
    "        whole_results.extend(sen_result)\n",
    "#         print(np.shape(whole_results))\n",
    "#         if i == 5:\n",
    "#             break\n",
    "    return whole_results\n",
    "\n",
    "def get_mix_preds_by_result(results,method=\"avg\"):\n",
    "    if method == \"avg\":\n",
    "        scores = np.mean(results,axis=0)\n",
    "    elif method == \"confidence\":\n",
    "        scores = np.max(results,axis=0)\n",
    "    else:\n",
    "        raise NotImplementedError(method)\n",
    "        \n",
    "    result = np.reshape(scores,(-1,len(labels)))\n",
    "    \n",
    "    id_result = np.argmax(result,axis=1)\n",
    "    la_result = [tag_dictionary.get_item_for_index(i) for i in id_result]\n",
    "    \n",
    "    return la_result\n",
    "        \n",
    "\n",
    "bert_poss = get_whole_result(bert_model)\n",
    "xlnet_poss = get_whole_result(xlnet_model)\n",
    "\n",
    "pred = get_mix_preds_by_result([bert_poss,xlnet_poss],\"avg\")\n"
   ]
  },
  {
   "cell_type": "code",
   "execution_count": null,
   "metadata": {},
   "outputs": [],
   "source": []
  }
 ],
 "metadata": {
  "kernelspec": {
   "display_name": "py",
   "language": "python",
   "name": "py"
  },
  "language_info": {
   "codemirror_mode": {
    "name": "ipython",
    "version": 3
   },
   "file_extension": ".py",
   "mimetype": "text/x-python",
   "name": "python",
   "nbconvert_exporter": "python",
   "pygments_lexer": "ipython3",
   "version": "3.6.9"
  }
 },
 "nbformat": 4,
 "nbformat_minor": 4
}
