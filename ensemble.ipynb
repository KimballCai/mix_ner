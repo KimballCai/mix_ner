{
 "cells": [
  {
   "cell_type": "code",
   "execution_count": null,
   "metadata": {},
   "outputs": [],
   "source": [
    "import os\n",
    "os.environ[\"CUDA_VISIBLE_DEVICES\"] = \"0\"\n",
    "\n",
    "from flair.data import Corpus\n",
    "from flair.datasets import ColumnCorpus\n",
    "\n",
    "columns = {0: 'text', 1: '_', 2: '_', 3: 'ner'}\n",
    "\n",
    "data_folder = './data'\n",
    "\n",
    "corpus: Corpus = ColumnCorpus(data_folder, columns,\n",
    "                              train_file='train.txt',\n",
    "                              test_file='test.txt',\n",
    "                              dev_file='valid.txt')\n",
    "print(corpus)\n",
    "tag_type = 'ner'\n",
    "tag_dictionary = corpus.make_tag_dictionary(tag_type=tag_type)\n",
    "print(tag_dictionary)"
   ]
  },
  {
   "cell_type": "code",
   "execution_count": null,
   "metadata": {},
   "outputs": [],
   "source": [
    "from flair.embeddings import ELMoEmbeddings,BertEmbeddings,FlairEmbeddings,XLNetEmbeddings\n",
    "from flair.models import SequenceTagger\n",
    "from ensemble_tagger import EnsembleTagger\n",
    "from typing import List\n",
    "\n",
    "elmo_tagger = SequenceTagger(hidden_size=256,\n",
    "                             embeddings=ELMoEmbeddings('small'),\n",
    "                             tag_dictionary=tag_dictionary,\n",
    "                             tag_type=tag_type,\n",
    "                             use_crf=True)\n",
    "bert_tagger = SequenceTagger(hidden_size=256,\n",
    "                             embeddings=BertEmbeddings(),\n",
    "                             tag_dictionary=tag_dictionary,\n",
    "                             tag_type=tag_type,\n",
    "                             use_crf=True)\n",
    "xlnet_tagger = SequenceTagger(hidden_size=256,\n",
    "                              embeddings=XLNetEmbeddings(),\n",
    "                              tag_dictionary=tag_dictionary,\n",
    "                              tag_type=tag_type,\n",
    "                              use_crf=True)\n",
    "# flair_tagger = SequenceTagger(hidden_size=256,\n",
    "#                               embeddings=FlairEmbeddings('en-forward'),\n",
    "#                               tag_dictionary=tag_dictionary,\n",
    "#                               tag_type=tag_type,\n",
    "#                               use_crf=True)\n",
    "ensemble_tagger = EnsembleTagger(models=[xlnet_tagger, elmo_tagger, bert_tagger],\n",
    "                                 tag_type=tag_type,\n",
    "                                 mode='loss')\n",
    "print(str(ensemble_tagger))"
   ]
  },
  {
   "cell_type": "code",
   "execution_count": null,
   "metadata": {},
   "outputs": [],
   "source": [
    "from flair.trainers import ModelTrainer\n",
    "from datetime import datetime\n",
    "\n",
    "trainer: ModelTrainer = ModelTrainer(ensemble_tagger, corpus)\n",
    "model_path = \"/hdd1/kurisu/cs6207/log/ensemble/'\n",
    "trainer.train(model_path,\n",
    "              learning_rate=0.01,\n",
    "              mini_batch_size=32,\n",
    "              max_epochs=1)"
   ]
  },
  {
   "cell_type": "code",
   "execution_count": null,
   "metadata": {},
   "outputs": [],
   "source": [
    "test_ensemble_tagger = EnsembleTagger.load(model_path + 'best-model.pt')\n",
    "\n",
    "sentence = corpus.test[0]\n",
    "\n",
    "for entity in sentence.get_spans('ner'):\n",
    "    print(entity)\n",
    "\n",
    "for token in sentence.tokens:\n",
    "    print(str(token.get_tag(\"ner\")))\n",
    "    print(str(token.get_tags_proba_dist(\"ner\")))\n",
    "\n",
    "test_ensemble_tagger.predict(sentence,all_tag_prob=True)\n",
    "\n",
    "for token in sentence.tokens:\n",
    "    print(token.get_tag(\"ner\").value)\n",
    "    print(token.get_tags_proba_dist(\"ner\"))"
   ]
  },
  {
   "cell_type": "code",
   "execution_count": null,
   "metadata": {},
   "outputs": [],
   "source": [
    "def test(model, data):\n",
    "    results = []\n",
    "    for sentence in data:\n",
    "        model.predict(sentence,all_tag_prob=True)\n",
    "        for token in sentence.tokens:\n",
    "            results.append(token.get_tag(\"ner\").value)\n",
    "    return results\n",
    "\n",
    "elmo_pred = test(elmo_tagger, corpus.test)\n",
    "bert_pred = test(bert_tagger, corpus.test)\n",
    "flair_pred = test(flair_tagger, corpus.test)\n",
    "ensemble_pred = test(ensemble_tagger, corpus.test)"
   ]
  },
  {
   "cell_type": "code",
   "execution_count": null,
   "metadata": {},
   "outputs": [],
   "source": [
    "from conlleval import evaluate\n",
    "\n",
    "real = []\n",
    "for sentence in corpus.test:\n",
    "    for token in sentence.tokens:\n",
    "        real.append(token.get_tag(\"ner\").value)\n",
    "\n",
    "print(evaluate(real, ensemble_pred))\n",
    "print(evaluate(real, elmo_pred))\n",
    "print(evaluate(real, bert_pred))\n",
    "print(evaluate(real, flair_pred))"
   ]
  },
  {
   "cell_type": "code",
   "execution_count": null,
   "metadata": {},
   "outputs": [],
   "source": []
  }
 ],
 "metadata": {
  "kernelspec": {
   "display_name": "Python 3",
   "language": "python",
   "name": "python3"
  },
  "language_info": {
   "codemirror_mode": {
    "name": "ipython",
    "version": 3
   },
   "file_extension": ".py",
   "mimetype": "text/x-python",
   "name": "python",
   "nbconvert_exporter": "python",
   "pygments_lexer": "ipython3",
   "version": "3.6.9"
  }
 },
 "nbformat": 4,
 "nbformat_minor": 2
}
